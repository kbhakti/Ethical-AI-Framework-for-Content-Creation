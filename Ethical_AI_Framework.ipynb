{
 "cells": [
  {
   "cell_type": "code",
   "execution_count": 8,
   "id": "ff115b86",
   "metadata": {},
   "outputs": [],
   "source": [
    "# pip install --upgrade numpy thinc --user"
   ]
  },
  {
   "cell_type": "code",
   "execution_count": 9,
   "id": "99edb53f",
   "metadata": {},
   "outputs": [],
   "source": [
    "# !pip install --user nltk spacy transformers\n",
    "# !python -m spacy download en_core_web_sm"
   ]
  },
  {
   "cell_type": "code",
   "execution_count": 10,
   "id": "da61111f",
   "metadata": {},
   "outputs": [],
   "source": [
    "# pip install --user --upgrade pip setuptools"
   ]
  },
  {
   "cell_type": "code",
   "execution_count": 11,
   "id": "aa3860f7",
   "metadata": {},
   "outputs": [],
   "source": [
    "# !pip install --upgrade requests_mock clyent nbformat requests  --user\n",
    "# !pip install thinc==8.1.8"
   ]
  },
  {
   "cell_type": "code",
   "execution_count": 12,
   "id": "61b3ac00",
   "metadata": {},
   "outputs": [],
   "source": [
    "# !pip install pillow==9.0.0"
   ]
  },
  {
   "cell_type": "code",
   "execution_count": 13,
   "id": "aa414b1d",
   "metadata": {},
   "outputs": [],
   "source": [
    "# pip install tensorflow==2.16.1"
   ]
  },
  {
   "cell_type": "code",
   "execution_count": 15,
   "id": "572222af",
   "metadata": {},
   "outputs": [
    {
     "name": "stderr",
     "output_type": "stream",
     "text": [
      "[nltk_data] Downloading package punkt to\n",
      "[nltk_data]     C:\\Users\\User\\AppData\\Roaming\\nltk_data...\n",
      "[nltk_data]   Package punkt is already up-to-date!\n",
      "[nltk_data] Downloading package averaged_perceptron_tagger to\n",
      "[nltk_data]     C:\\Users\\User\\AppData\\Roaming\\nltk_data...\n",
      "[nltk_data]   Package averaged_perceptron_tagger is already up-to-\n",
      "[nltk_data]       date!\n"
     ]
    },
    {
     "data": {
      "text/plain": [
       "True"
      ]
     },
     "execution_count": 15,
     "metadata": {},
     "output_type": "execute_result"
    }
   ],
   "source": [
    "# Import necessary libraries\n",
    "import nltk\n",
    "import spacy\n",
    "from transformers import pipeline\n",
    "import warnings\n",
    "warnings.filterwarnings('ignore')\n",
    "\n",
    "# Download necessary NLTK data\n",
    "nltk.download('punkt')\n",
    "nltk.download('averaged_perceptron_tagger')"
   ]
  },
  {
   "cell_type": "code",
   "execution_count": 16,
   "id": "fa6817bb",
   "metadata": {},
   "outputs": [
    {
     "name": "stderr",
     "output_type": "stream",
     "text": [
      "No model was supplied, defaulted to distilbert/distilbert-base-uncased-finetuned-sst-2-english and revision af0f99b (https://huggingface.co/distilbert/distilbert-base-uncased-finetuned-sst-2-english).\n",
      "Using a pipeline without specifying a model name and revision in production is not recommended.\n"
     ]
    },
    {
     "name": "stdout",
     "output_type": "stream",
     "text": [
      "{'gender_bias_feedback': 'No gender bias detected.', 'misinformation_feedback': 'Potential misinformation detected.', 'inappropriate_content_feedback': 'Inappropriate content detected: banned'}\n"
     ]
    }
   ],
   "source": [
    "# Load SpaCy model\n",
    "nlp = spacy.load(\"en_core_web_sm\")\n",
    "\n",
    "def detect_gender_bias(text):\n",
    "    biased_terms = {\n",
    "        \"he\": \"neutral\",\n",
    "        \"she\": \"neutral\",\n",
    "        \"man\": \"neutral\",\n",
    "        \"woman\": \"neutral\",\n",
    "        \"male\": \"neutral\",\n",
    "        \"female\": \"neutral\",\n",
    "    }\n",
    "    \n",
    "    tokens = nltk.word_tokenize(text.lower())\n",
    "    biased_words = [word for word in tokens if word in biased_terms]\n",
    "\n",
    "    if biased_words:\n",
    "        return f\"Potential gender bias detected: {', '.join(biased_words)}\"\n",
    "    else:\n",
    "        return \"No gender bias detected.\"\n",
    "\n",
    "def detect_misinformation(text):\n",
    "    classifier = pipeline(\"sentiment-analysis\")\n",
    "\n",
    "    results = classifier(text)\n",
    "    for result in results:\n",
    "        if result['label'] == 'NEGATIVE' and result['score'] > 0.9:\n",
    "            return \"Potential misinformation detected.\"\n",
    "\n",
    "    return \"No misinformation detected.\"\n",
    "\n",
    "def detect_inappropriate_content(text):\n",
    "    flagged_terms = [\"inappropriate\", \"offensive\", \"banned\"]\n",
    "\n",
    "    doc = nlp(text.lower())\n",
    "    flagged_words = [token.text for token in doc if token.text in flagged_terms]\n",
    "\n",
    "    if flagged_words:\n",
    "        return f\"Inappropriate content detected: {', '.join(flagged_words)}\"\n",
    "    else:\n",
    "        return \"No inappropriate content detected.\"\n",
    "\n",
    "def check_content(text):\n",
    "    gender_bias_feedback = detect_gender_bias(text)\n",
    "    misinformation_feedback = detect_misinformation(text)\n",
    "    inappropriate_content_feedback = detect_inappropriate_content(text)\n",
    "    \n",
    "    return {\n",
    "        \"gender_bias_feedback\": gender_bias_feedback,\n",
    "        \"misinformation_feedback\": misinformation_feedback,\n",
    "        \"inappropriate_content_feedback\": inappropriate_content_feedback\n",
    "    }\n",
    "\n",
    "# Example usage\n",
    "text = \"The nurse went to his office. Vaccines are dangerous. This is a banned substance.\"\n",
    "feedback = check_content(text)\n",
    "print(feedback)\n"
   ]
  },
  {
   "cell_type": "code",
   "execution_count": null,
   "id": "10731ca8",
   "metadata": {},
   "outputs": [],
   "source": [
    "# transformers\n",
    "--> hugging face"
   ]
  },
  {
   "cell_type": "code",
   "execution_count": null,
   "id": "4ba38260",
   "metadata": {},
   "outputs": [],
   "source": [
    "# Image\n",
    "Text on Image\n",
    "Just Image"
   ]
  },
  {
   "cell_type": "code",
   "execution_count": null,
   "id": "719cbb22-7806-4a83-85c9-d582b03f0882",
   "metadata": {},
   "outputs": [],
   "source": [
    "random\n",
    "list=[topics--> controversial/ non-controversial]"
   ]
  },
  {
   "cell_type": "code",
   "execution_count": null,
   "id": "834f008c",
   "metadata": {},
   "outputs": [],
   "source": [
    "streamlit--->public-->github\n",
    "other open source UIs"
   ]
  }
 ],
 "metadata": {
  "kernelspec": {
   "display_name": "Python 3 (ipykernel)",
   "language": "python",
   "name": "python3"
  },
  "language_info": {
   "codemirror_mode": {
    "name": "ipython",
    "version": 3
   },
   "file_extension": ".py",
   "mimetype": "text/x-python",
   "name": "python",
   "nbconvert_exporter": "python",
   "pygments_lexer": "ipython3",
   "version": "3.11.4"
  }
 },
 "nbformat": 4,
 "nbformat_minor": 5
}
